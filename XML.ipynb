{
  "nbformat": 4,
  "nbformat_minor": 0,
  "metadata": {
    "colab": {
      "name": "XML.ipynb",
      "provenance": [],
      "authorship_tag": "ABX9TyPK4F2LlVy4jEZxdrA/t2Xu",
      "include_colab_link": true
    },
    "kernelspec": {
      "name": "python3",
      "display_name": "Python 3"
    }
  },
  "cells": [
    {
      "cell_type": "markdown",
      "metadata": {
        "id": "view-in-github",
        "colab_type": "text"
      },
      "source": [
        "<a href=\"https://colab.research.google.com/github/surajgazi100/Data_science_Fundamentals/blob/main/XML.ipynb\" target=\"_parent\"><img src=\"https://colab.research.google.com/assets/colab-badge.svg\" alt=\"Open In Colab\"/></a>"
      ]
    },
    {
      "cell_type": "markdown",
      "metadata": {
        "id": "c3PZqZVCRALi"
      },
      "source": [
        "The Python standard library provides a minimal but useful set of interfaces to work with XML. The two most basic and broadly used APIs to XML data are the SAX and DOM interfaces. Simple API for XML (SAX) − Here, you register callbacks for events of interest and then let the parser proceed through the document."
      ]
    },
    {
      "cell_type": "markdown",
      "metadata": {
        "id": "CfboMQkaRMmw"
      },
      "source": [
        "It is important to note that modules in the xml package require that there be at least one SAX-compliant XML parser available. The Expat parser is included with Python, so the xml.parsers.expat module will always be available.\n",
        "\n",
        "\n",
        "\n",
        "The documentation for the xml.dom and xml.sax packages are the definition of the Python bindings for the DOM and SAX interfaces.\n",
        "\n",
        "\n",
        "\n",
        "The XML handling submodules are:\n",
        "\n",
        "xml.etree.ElementTree: the ElementTree API, a simple and lightweight XML processor\n",
        "\n",
        "\n",
        "xml.dom: the DOM API definition\n",
        "\n",
        "\n",
        "xml.dom.minidom: a minimal DOM implementation\n",
        "\n",
        "\n",
        "xml.dom.pulldom: support for building partial DOM trees\n",
        "\n",
        "\n",
        "\n",
        "xml.sax: SAX2 base classes and convenience functions\n",
        "\n",
        "xml.parsers.expat: the Expat parser binding"
      ]
    },
    {
      "cell_type": "markdown",
      "metadata": {
        "id": "ZtmeXaJXRUqw"
      },
      "source": [
        "XML vulnerabilities\n",
        "\n",
        "The XML processing modules are not secure against maliciously constructed data. An attacker can abuse XML features to carry out denial of service attacks, access local files, generate network connections to other machines, or circumvent firewalls.\n",
        "\n",
        "\n",
        "The following table gives an overview of the known attacks and whether the various modules are vulnerable to them."
      ]
    },
    {
      "cell_type": "markdown",
      "metadata": {
        "id": "zs6CC6KERic7"
      },
      "source": [
        "![image.png](data:image/png;base64,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)"
      ]
    },
    {
      "cell_type": "markdown",
      "metadata": {
        "id": "YGhfqC_mRjvc"
      },
      "source": [
        "1. xml.etree.ElementTree doesn’t expand external entities and raises a ParserError when an entity occurs.\n",
        "\n",
        "2. xml.dom.minidom doesn’t expand external entities and simply returns the unexpanded entity verbatim.\n",
        "\n",
        "3. xmlrpclib doesn’t expand external entities and omits them.\n",
        "\n",
        "4. Since Python 3.7.1, external general entities are no longer processed by default."
      ]
    },
    {
      "cell_type": "markdown",
      "metadata": {
        "id": "DMGCmHyWRqEB"
      },
      "source": [
        "billion laughs / exponential entity expansion\n",
        "\n",
        "The Billion Laughs attack – also known as exponential entity expansion – uses multiple levels of nested entities. Each entity refers to another entity several times, and the final entity definition contains a small string. The exponential expansion results in several gigabytes of text and consumes lots of memory and CPU time.\n",
        "\n",
        "quadratic blowup entity expansion\n",
        "A quadratic blowup attack is similar to a Billion Laughs attack; it abuses entity expansion, too. Instead of nested entities it repeats one large entity with a couple of thousand chars over and over again. The attack isn’t as efficient as the exponential case but it avoids triggering parser countermeasures that forbid deeply-nested entities.\n",
        "\n",
        "external entity expansion\n",
        "Entity declarations can contain more than just text for replacement. They can also point to external resources or local files. The XML parser accesses the resource and embeds the content into the XML document.\n",
        "\n",
        "DTD retrieval\n",
        "Some XML libraries like Python’s xml.dom.pulldom retrieve document type definitions from remote or local locations. The feature has similar implications as the external entity expansion issue.\n",
        "\n",
        "decompression bomb\n",
        "Decompression bombs (aka ZIP bomb) apply to all XML libraries that can parse compressed XML streams such as gzipped HTTP streams or LZMA-compressed files. For an attacker it can reduce the amount of transmitted data by three magnitudes or more.\n",
        "\n",
        "The documentation for defusedxml on PyPI has further information about all known attack vectors with examples and references.\n",
        "\n",
        "The defusedxml Package\n",
        "defusedxml is a pure Python package with modified subclasses of all stdlib XML parsers that prevent any potentially malicious operation. Use of this package is recommended for any server code that parses untrusted XML data. The package also ships with example exploits and extended documentation on more XML exploits such as XPath injection."
      ]
    },
    {
      "cell_type": "code",
      "metadata": {
        "id": "mB869XeJSEjB"
      },
      "source": [
        "<collection shelf=\"New Arrivals\">\n",
        "<movie title=\"Enemy Behind\">\n",
        "   <type>War, Thriller</type>\n",
        "   <format>DVD</format>\n",
        "   <year>2003</year>\n",
        "   <rating>PG</rating>\n",
        "   <stars>10</stars>\n",
        "   <description>Talk about a US-Japan war</description>\n",
        "</movie>\n",
        "<movie title=\"Transformers\">\n",
        "   <type>Anime, Science Fiction</type>\n",
        "   <format>DVD</format>\n",
        "   <year>1989</year>\n",
        "   <rating>R</rating>\n",
        "   <stars>8</stars>\n",
        "   <description>A schientific fiction</description>\n",
        "</movie>\n",
        "   <movie title=\"Trigun\">\n",
        "   <type>Anime, Action</type>\n",
        "   <format>DVD</format>\n",
        "   <episodes>4</episodes>\n",
        "   <rating>PG</rating>\n",
        "   <stars>10</stars>\n",
        "   <description>Vash the Stampede!</description>\n",
        "</movie>\n",
        "<movie title=\"Ishtar\">\n",
        "   <type>Comedy</type>\n",
        "   <format>VHS</format>\n",
        "   <rating>PG</rating>\n",
        "   <stars>2</stars>\n",
        "   <description>Viewable boredom</description>\n",
        "</movie>\n",
        "</collection>"
      ],
      "execution_count": null,
      "outputs": []
    },
    {
      "cell_type": "code",
      "metadata": {
        "id": "c7ZJx_dvSRyJ"
      },
      "source": [
        "\n",
        "from xml.dom.minidom import parse\n",
        "import xml.dom.minidom\n",
        "\n",
        "# Open XML document using minidom parser\n",
        "DOMTree = xml.dom.minidom.parse(\"movies.xml\")\n",
        "collection = DOMTree.documentElement\n",
        "if collection.hasAttribute(\"shelf\"):\n",
        "   print \"Root element : %s\" % collection.getAttribute(\"shelf\")\n",
        "\n",
        "# Get all the movies in the collection\n",
        "movies = collection.getElementsByTagName(\"movie\")\n",
        "\n",
        "# Print detail of each movie.\n",
        "for movie in movies:\n",
        "   print \"*****Movie*****\"\n",
        "   if movie.hasAttribute(\"title\"):\n",
        "      print \"Title: %s\" % movie.getAttribute(\"title\")\n",
        "\n",
        "   type = movie.getElementsByTagName('type')[0]\n",
        "   print \"Type: %s\" % type.childNodes[0].data\n",
        "   format = movie.getElementsByTagName('format')[0]\n",
        "   print \"Format: %s\" % format.childNodes[0].data\n",
        "   rating = movie.getElementsByTagName('rating')[0]\n",
        "   print \"Rating: %s\" % rating.childNodes[0].data\n",
        "   description = movie.getElementsByTagName('description')[0]\n",
        "   print \"Description: %s\" % description.childNodes[0].data"
      ],
      "execution_count": null,
      "outputs": []
    },
    {
      "cell_type": "code",
      "metadata": {
        "id": "Kzk7QEPYSXsL"
      },
      "source": [
        "Root element : New Arrivals\n",
        "*****Movie*****\n",
        "Title: Enemy Behind\n",
        "Type: War, Thriller\n",
        "Format: DVD\n",
        "Rating: PG\n",
        "Description: Talk about a US-Japan war\n",
        "*****Movie*****\n",
        "Title: Transformers\n",
        "Type: Anime, Science Fiction\n",
        "Format: DVD\n",
        "Rating: R\n",
        "Description: A schientific fiction\n",
        "*****Movie*****\n",
        "Title: Trigun\n",
        "Type: Anime, Action\n",
        "Format: DVD\n",
        "Rating: PG\n",
        "Description: Vash the Stampede!\n",
        "*****Movie*****\n",
        "Title: Ishtar\n",
        "Type: Comedy\n",
        "Format: VHS\n",
        "Rating: PG\n",
        "Description: Viewable boredom"
      ],
      "execution_count": null,
      "outputs": []
    }
  ]
}