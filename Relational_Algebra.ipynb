{
  "nbformat": 4,
  "nbformat_minor": 0,
  "metadata": {
    "colab": {
      "name": "Relational Algebra.ipynb",
      "provenance": [],
      "authorship_tag": "ABX9TyOfHOLtIcHzhU1mu2Cy3rYr",
      "include_colab_link": true
    },
    "kernelspec": {
      "name": "python3",
      "display_name": "Python 3"
    }
  },
  "cells": [
    {
      "cell_type": "markdown",
      "metadata": {
        "id": "view-in-github",
        "colab_type": "text"
      },
      "source": [
        "<a href=\"https://colab.research.google.com/github/surajgazi100/Data_science_/blob/main/Relational_Algebra.ipynb\" target=\"_parent\"><img src=\"https://colab.research.google.com/assets/colab-badge.svg\" alt=\"Open In Colab\"/></a>"
      ]
    },
    {
      "cell_type": "markdown",
      "metadata": {
        "id": "OL7XB15SM8_N"
      },
      "source": [
        "Relational algebra\n",
        "Relational algebra is a theory for manipulating data that's in table form, which is perfect because a DataFrame is a table! We use relational algebra to define the operations on tables; operations that can be  grouped into 5 main categories:\n",
        "\n",
        "1.Projection and restriction\n",
        "\n",
        "2.Set operations (union, difference, intersection)\n",
        "\n",
        "3.Cartesian product\n",
        "\n",
        "4.Join\n",
        "\n",
        "5.Aggregation"
      ]
    },
    {
      "cell_type": "markdown",
      "metadata": {
        "id": "HLFYEd_7NL1T"
      },
      "source": [
        "**Pandas data structures**\n",
        "\n",
        "Pandas has two fundamental data structures, the  Series  and the  DataFrame  . These structures can be seen as a generalization of NumPy's tables and matrices.\n",
        "\n",
        "The key difference between these and NumPy's versions is that Pandas' objects have explicit indexes. Where an element of a NumPy array can only be referred to by its position in the array, each element of a  Series  or  DataFrame  can have an index explicitly designated by the user."
      ]
    },
    {
      "cell_type": "markdown",
      "metadata": {
        "id": "1c74KCC3NUyH"
      },
      "source": [
        ""
      ]
    },
    {
      "cell_type": "code",
      "metadata": {
        "id": "AzycQAk-M8C2",
        "outputId": "53926dcb-0da2-48ed-bfd3-b434a36fbb79",
        "colab": {
          "base_uri": "https://localhost:8080/",
          "height": 386
        }
      },
      "source": [
        "import numpy as np\n",
        "import pandas as pd\n",
        "# We can create a series from a lit\n",
        "data = pd.Series([0.25, 0.5, 0.75, 1.0])\n",
        "print(\"data looks like a numpy array: \", data)\n",
        "\n",
        "# We can manually specify indexes\n",
        "data = pd.Series([0.25, 0.5, 0.75, 1.0],        \n",
        "                index=['a', 'b', 'c', 'd'])\n",
        "print(\"data looks like a Python dict: \", data)\n",
        "\n",
        "print(data['b'])\n",
        "# We can create a Series directly from a dict:\n",
        "population_dict = {'California': 38332521,\n",
        "                    'Texas': 26448193,\n",
        "                    'New York': 19651127,               \n",
        "                    'Florida': 19552860,                  \n",
        "                    'Illinois': 12882135}\n",
        "area_dict = {'California': 423967,\n",
        "            'Texas': 695662,\n",
        "            'New York': 141297,\n",
        "            'Florida': 170312,\n",
        "            'Illinois': 149995}\n",
        "\n",
        "population = pd.Series(population_dict)\n",
        "area = pd.Series(area_dict)\n",
        "print(population)\n",
        "# What do you think of this line?\n",
        "print(population['California':'Florida'])"
      ],
      "execution_count": 1,
      "outputs": [
        {
          "output_type": "stream",
          "text": [
            "data looks like a numpy array:  0    0.25\n",
            "1    0.50\n",
            "2    0.75\n",
            "3    1.00\n",
            "dtype: float64\n",
            "data looks like a Python dict:  a    0.25\n",
            "b    0.50\n",
            "c    0.75\n",
            "d    1.00\n",
            "dtype: float64\n",
            "0.5\n",
            "California    38332521\n",
            "Texas         26448193\n",
            "New York      19651127\n",
            "Florida       19552860\n",
            "Illinois      12882135\n",
            "dtype: int64\n",
            "California    38332521\n",
            "Texas         26448193\n",
            "New York      19651127\n",
            "Florida       19552860\n",
            "dtype: int64\n"
          ],
          "name": "stdout"
        }
      ]
    },
    {
      "cell_type": "markdown",
      "metadata": {
        "id": "d7CIHCfKNvAv"
      },
      "source": [
        "DataFrames  allow you to combine several  Series  into columns, much like in an SQL table. Building a  DataFrame  is easy:\n",
        "\n"
      ]
    },
    {
      "cell_type": "code",
      "metadata": {
        "id": "EcVinH1SN1OH",
        "outputId": "85ed4126-535a-44d1-b6a2-52e39ad7a8c8",
        "colab": {
          "base_uri": "https://localhost:8080/",
          "height": 472
        }
      },
      "source": [
        "# From a Series\n",
        "df = pd.DataFrame(population, columns=['population'])\n",
        "print(df)\n",
        "\n",
        "# From a list of dict\n",
        "data = [{'a': i, 'b': 2 * i} for i in range(3)]\n",
        "df = pd.DataFrame(data)\n",
        "print(df)\n",
        "\n",
        "# From several Series\n",
        "df = pd.DataFrame({'population': population,\n",
        "                    'area': area})\n",
        "print(df)\n",
        "\n",
        "# From a 2-dimensional Numpy array\n",
        "df = pd.DataFrame(np.random.rand(3, 2),\n",
        "                columns=['foo', 'bar'],\n",
        "                index=['a', 'b', 'c'])\n",
        "print(df)\n",
        "\n",
        "# A function to easily generate DataFrames. It will be very \n",
        "# useful in the rest of this chapter.\n",
        "def make_df(cols, ind):    \n",
        "    \"\"\"Quickly create DataFrames\"\"\"\n",
        "    data = {c: [str(c) + str(i) for i in ind]\n",
        "            for c in cols}\n",
        "    return pd.DataFrame(data, ind)\n",
        "    \n",
        "# example\n",
        "make_df('ABC', range(3))"
      ],
      "execution_count": 2,
      "outputs": [
        {
          "output_type": "stream",
          "text": [
            "            population\n",
            "California    38332521\n",
            "Texas         26448193\n",
            "New York      19651127\n",
            "Florida       19552860\n",
            "Illinois      12882135\n",
            "   a  b\n",
            "0  0  0\n",
            "1  1  2\n",
            "2  2  4\n",
            "            population    area\n",
            "California    38332521  423967\n",
            "Texas         26448193  695662\n",
            "New York      19651127  141297\n",
            "Florida       19552860  170312\n",
            "Illinois      12882135  149995\n",
            "        foo       bar\n",
            "a  0.120152  0.870381\n",
            "b  0.255826  0.642100\n",
            "c  0.762551  0.659219\n"
          ],
          "name": "stdout"
        },
        {
          "output_type": "execute_result",
          "data": {
            "text/html": [
              "<div>\n",
              "<style scoped>\n",
              "    .dataframe tbody tr th:only-of-type {\n",
              "        vertical-align: middle;\n",
              "    }\n",
              "\n",
              "    .dataframe tbody tr th {\n",
              "        vertical-align: top;\n",
              "    }\n",
              "\n",
              "    .dataframe thead th {\n",
              "        text-align: right;\n",
              "    }\n",
              "</style>\n",
              "<table border=\"1\" class=\"dataframe\">\n",
              "  <thead>\n",
              "    <tr style=\"text-align: right;\">\n",
              "      <th></th>\n",
              "      <th>A</th>\n",
              "      <th>B</th>\n",
              "      <th>C</th>\n",
              "    </tr>\n",
              "  </thead>\n",
              "  <tbody>\n",
              "    <tr>\n",
              "      <th>0</th>\n",
              "      <td>A0</td>\n",
              "      <td>B0</td>\n",
              "      <td>C0</td>\n",
              "    </tr>\n",
              "    <tr>\n",
              "      <th>1</th>\n",
              "      <td>A1</td>\n",
              "      <td>B1</td>\n",
              "      <td>C1</td>\n",
              "    </tr>\n",
              "    <tr>\n",
              "      <th>2</th>\n",
              "      <td>A2</td>\n",
              "      <td>B2</td>\n",
              "      <td>C2</td>\n",
              "    </tr>\n",
              "  </tbody>\n",
              "</table>\n",
              "</div>"
            ],
            "text/plain": [
              "    A   B   C\n",
              "0  A0  B0  C0\n",
              "1  A1  B1  C1\n",
              "2  A2  B2  C2"
            ]
          },
          "metadata": {
            "tags": []
          },
          "execution_count": 2
        }
      ]
    },
    {
      "cell_type": "markdown",
      "metadata": {
        "id": "I7tWeXGBN_y9"
      },
      "source": [
        "Projection and restriction\n",
        "The first 2 operations of relational algebra are very simple. Projection is a selection of certain columns and restriction is a selection of certain rows.\n",
        "\n",
        "We can refer to the elements of the Pandas objects by using either their implicit indexes (like we do with Numpy arrays) or explicit indexes (as in the dicts). To avoid confusion, it is advisable to use the  loc  (which refers by index) and  iloc  (which refers by position) attributes of each object."
      ]
    },
    {
      "cell_type": "code",
      "metadata": {
        "id": "W8EmPs86OBtz",
        "outputId": "cc438d26-123f-47df-a34e-081fb7c5f0bb",
        "colab": {
          "base_uri": "https://localhost:8080/",
          "height": 134
        }
      },
      "source": [
        "data = pd.Series([0.25, 0.5, 0.75, 1.0],\n",
        "                index=['a', 'b', 'c', 'd'])\n",
        "print(data)\n",
        "\n",
        "print(data.loc['b'])\n",
        "print(data.iloc[1])"
      ],
      "execution_count": 3,
      "outputs": [
        {
          "output_type": "stream",
          "text": [
            "a    0.25\n",
            "b    0.50\n",
            "c    0.75\n",
            "d    1.00\n",
            "dtype: float64\n",
            "0.5\n",
            "0.5\n"
          ],
          "name": "stdout"
        }
      ]
    },
    {
      "cell_type": "markdown",
      "metadata": {
        "id": "jOSDKIQkOFzc"
      },
      "source": [
        "The difference between the two should be clear after executing these lines. We perform these same operations on  DataFrames  in a similar way:"
      ]
    },
    {
      "cell_type": "code",
      "metadata": {
        "id": "BSLIBsJ7OMnt",
        "outputId": "b7f28790-ac1c-4beb-b9a1-0bddf6ecde79",
        "colab": {
          "base_uri": "https://localhost:8080/",
          "height": 296
        }
      },
      "source": [
        "data = pd.DataFrame({'area':area, 'pop':population})\n",
        "print(data)\n",
        "data.loc[:'Illinois', :'pop']"
      ],
      "execution_count": 4,
      "outputs": [
        {
          "output_type": "stream",
          "text": [
            "              area       pop\n",
            "California  423967  38332521\n",
            "Texas       695662  26448193\n",
            "New York    141297  19651127\n",
            "Florida     170312  19552860\n",
            "Illinois    149995  12882135\n"
          ],
          "name": "stdout"
        },
        {
          "output_type": "execute_result",
          "data": {
            "text/html": [
              "<div>\n",
              "<style scoped>\n",
              "    .dataframe tbody tr th:only-of-type {\n",
              "        vertical-align: middle;\n",
              "    }\n",
              "\n",
              "    .dataframe tbody tr th {\n",
              "        vertical-align: top;\n",
              "    }\n",
              "\n",
              "    .dataframe thead th {\n",
              "        text-align: right;\n",
              "    }\n",
              "</style>\n",
              "<table border=\"1\" class=\"dataframe\">\n",
              "  <thead>\n",
              "    <tr style=\"text-align: right;\">\n",
              "      <th></th>\n",
              "      <th>area</th>\n",
              "      <th>pop</th>\n",
              "    </tr>\n",
              "  </thead>\n",
              "  <tbody>\n",
              "    <tr>\n",
              "      <th>California</th>\n",
              "      <td>423967</td>\n",
              "      <td>38332521</td>\n",
              "    </tr>\n",
              "    <tr>\n",
              "      <th>Texas</th>\n",
              "      <td>695662</td>\n",
              "      <td>26448193</td>\n",
              "    </tr>\n",
              "    <tr>\n",
              "      <th>New York</th>\n",
              "      <td>141297</td>\n",
              "      <td>19651127</td>\n",
              "    </tr>\n",
              "    <tr>\n",
              "      <th>Florida</th>\n",
              "      <td>170312</td>\n",
              "      <td>19552860</td>\n",
              "    </tr>\n",
              "    <tr>\n",
              "      <th>Illinois</th>\n",
              "      <td>149995</td>\n",
              "      <td>12882135</td>\n",
              "    </tr>\n",
              "  </tbody>\n",
              "</table>\n",
              "</div>"
            ],
            "text/plain": [
              "              area       pop\n",
              "California  423967  38332521\n",
              "Texas       695662  26448193\n",
              "New York    141297  19651127\n",
              "Florida     170312  19552860\n",
              "Illinois    149995  12882135"
            ]
          },
          "metadata": {
            "tags": []
          },
          "execution_count": 4
        }
      ]
    },
    {
      "cell_type": "markdown",
      "metadata": {
        "id": "PnMqjQhfWiWR"
      },
      "source": [
        "Another very useful function to manipulate Dataframes is  pd.merge, which allows you to join DataFrames.\n",
        "\n",
        "A join is assembles information from one table A with that from another table B according to a chosen criterion. This criterion is called the join condition. This condition is composed of one or more columns that are common to A and B.\n",
        "\n",
        "Here is a quick example to help explain. Let's imagine that we have two Dataframes:\n",
        "\n",
        "df1  containing a list of employees and the names of the departments in which they work,\n",
        "\n",
        "df2  containing the same list of employees and their dates of entry into the company.\n",
        "\n",
        "The  pd.merge  function allows us to transform these two Dataframes into one, containing both information."
      ]
    },
    {
      "cell_type": "markdown",
      "metadata": {
        "id": "S509RztUWrOA"
      },
      "source": [
        "![15426263274571_15190382351255_foo.png](data:image/png;base64,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)"
      ]
    },
    {
      "cell_type": "code",
      "metadata": {
        "id": "ETg5jMavWtx2"
      },
      "source": [
        "df1 = pd.DataFrame({\n",
        "    'employee': ['Bob', 'Jake', 'Lisa', 'Sue'],\n",
        "    'department': ['Accounting','Engineering','Engineering', 'HR']})\n",
        "                    \n",
        "df2 = pd.DataFrame({\n",
        "    'employee': ['Lisa', 'Bob', 'Jake', 'Sue'],\n",
        "    'date': [2004, 2008, 2012, 2014]})\n",
        "    \n",
        "df3 = pd.merge(df1, df2)"
      ],
      "execution_count": 5,
      "outputs": []
    }
  ]
}